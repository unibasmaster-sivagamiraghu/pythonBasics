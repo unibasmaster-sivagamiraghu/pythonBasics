{
 "cells": [
  {
   "cell_type": "code",
   "execution_count": 3,
   "metadata": {},
   "outputs": [
    {
     "name": "stdout",
     "output_type": "stream",
     "text": [
      "Input lengths of shorter triangle sides:\n",
      "The length of the hypotenuse is: 5.0\n"
     ]
    }
   ],
   "source": [
    "  # bring the needed library for math ops\n",
    "from math import sqrt\n",
    "\n",
    "# Printing label to to get user input\n",
    "print(\"please enter two lengths of shorter triangle sides:\")\n",
    "\n",
    "# Read the input a\n",
    "a = input(\"a: \")\n",
    "# Printing label to to get user input\n",
    "print(\"please enter b:\")\n",
    "# read the input b \n",
    "b = input(\"b: \")\n",
    "\n",
    "# function to calculate the Pythagorean theorem.\n",
    "c = sqrt(a**2 + b**2)\n",
    "\n",
    "# Print the calculated length of the hypotenuse.\n",
    "print(\"The length of the hypotenuse  answer :\", c)"
   ]
  }
 ],
 "metadata": {
  "kernelspec": {
   "display_name": "Python 3",
   "language": "python",
   "name": "python3"
  },
  "language_info": {
   "codemirror_mode": {
    "name": "ipython",
    "version": 3
   },
   "file_extension": ".py",
   "mimetype": "text/x-python",
   "name": "python",
   "nbconvert_exporter": "python",
   "pygments_lexer": "ipython3",
   "version": "3.9.6"
  }
 },
 "nbformat": 4,
 "nbformat_minor": 2
}
